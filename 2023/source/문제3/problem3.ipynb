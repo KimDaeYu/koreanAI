{
 "cells": [
  {
   "cell_type": "code",
   "execution_count": 1,
   "metadata": {},
   "outputs": [],
   "source": [
    "import librosa"
   ]
  },
  {
   "cell_type": "code",
   "execution_count": 2,
   "metadata": {},
   "outputs": [],
   "source": [
    "audio_files = [\n",
    "    '/hdd/project/koreanAI/2023/data/문제3/task3_01.pcm',\n",
    "    '/hdd/project/koreanAI/2023/data/문제3/task3_02.pcm',\n",
    "    '/hdd/project/koreanAI/2023/data/문제3/task3_03.pcm',\n",
    "    '/hdd/project/koreanAI/2023/data/문제3/task3_04.pcm',\n",
    "    '/hdd/project/koreanAI/2023/data/문제3/task3_05.pcm'\n",
    "    #4 ~ 10번까지\n",
    "]"
   ]
  },
  {
   "cell_type": "code",
   "execution_count": 3,
   "metadata": {},
   "outputs": [],
   "source": [
    "import wave\n",
    "import array\n",
    "\n",
    "# PCM 파일 경로\n",
    "for i,audio_file in enumerate(audio_files):\n",
    "\n",
    "    # WAV 파일로 변환\n",
    "    with open(audio_file, 'rb') as pcm_file:\n",
    "        pcm_data = pcm_file.read()\n",
    "        sample_width = 2  # 16-bit PCM 파일의 경우\n",
    "        sample_rate = 16000  # 샘플링 레이트 설정 (원하는 값으로 변경)\n",
    "\n",
    "        # WAV 파일 생성\n",
    "        file_name = '../../data/문제3/output'+str(i+1)+'.wav'\n",
    "        with wave.open(file_name, 'wb') as wav_file:\n",
    "            wav_file.setnchannels(1)  # 모노 오디오\n",
    "            wav_file.setsampwidth(sample_width)\n",
    "            wav_file.setframerate(sample_rate)\n",
    "            print(wav_file)\n",
    "            wav_file.writeframes(pcm_data)"
   ]
  }
 ],
 "metadata": {
  "kernelspec": {
   "display_name": "ssl",
   "language": "python",
   "name": "python3"
  },
  "language_info": {
   "codemirror_mode": {
    "name": "ipython",
    "version": 3
   },
   "file_extension": ".py",
   "mimetype": "text/x-python",
   "name": "python",
   "nbconvert_exporter": "python",
   "pygments_lexer": "ipython3",
   "version": "3.8.16"
  },
  "orig_nbformat": 4
 },
 "nbformat": 4,
 "nbformat_minor": 2
}
