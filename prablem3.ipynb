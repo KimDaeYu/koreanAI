{
 "cells": [
  {
   "cell_type": "code",
   "execution_count": null,
   "metadata": {},
   "outputs": [],
   "source": []
  }
 ],
 "metadata": {
  "kernelspec": {
   "display_name": "Python 3.9.7 ('base')",
   "language": "python",
   "name": "python3"
  },
  "language_info": {
   "name": "python",
   "version": "3.9.7"
  },
  "orig_nbformat": 4,
  "vscode": {
   "interpreter": {
    "hash": "43ac2c48e4339e75074c516d91b4d1aed7885e0ce6846996e15ef729fba805f3"
   }
  }
 },
 "nbformat": 4,
 "nbformat_minor": 2
}
