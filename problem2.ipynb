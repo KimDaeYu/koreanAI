{
 "cells": [
  {
   "cell_type": "code",
   "execution_count": 3,
   "metadata": {},
   "outputs": [],
   "source": [
    "import json\n",
    "\n",
    "with open('answer.json', encoding=\"UTF-8\") as f:\n",
    "    json_data = json.load(f)"
   ]
  },
  {
   "cell_type": "code",
   "execution_count": null,
   "metadata": {},
   "outputs": [],
   "source": [
    "for dic in json_data['Q2']:\n",
    "    print(dic['original'])"
   ]
  },
  {
   "cell_type": "markdown",
   "metadata": {},
   "source": [
    "---\n",
    "case 1 : )/("
   ]
  },
  {
   "cell_type": "code",
   "execution_count": 137,
   "metadata": {},
   "outputs": [
    {
     "data": {
      "text/plain": [
       "'b/ 우버이츠 배달시간도 (20분)/(이십 분)에서 (30분)/(삼십 분)밖에 안 걸려서 좋더라. 너도 꼭 써봐야 돼.'"
      ]
     },
     "execution_count": 137,
     "metadata": {},
     "output_type": "execute_result"
    }
   ],
   "source": [
    "sent = json_data['Q2'][-10]['original']\n",
    "sent"
   ]
  },
  {
   "cell_type": "code",
   "execution_count": 134,
   "metadata": {},
   "outputs": [],
   "source": [
    "def remove_parentheses(sent):\n",
    "    idx = sent.find(')/(')\n",
    "    if(idx == -1):\n",
    "        return sent\n",
    "    else:\n",
    "        a = sent[:idx]\n",
    "        idx2 = a.find(\"(\")\n",
    "        a = a[:idx2]\n",
    "        c = sent[idx+3:]\n",
    "        idx2 = c.find(\")\")\n",
    "        b = c[:idx2]\n",
    "        c = c[idx2+1:]\n",
    "        sent = a + b + c\n",
    "        sent = remove_parentheses(sent)\n",
    "    return sent"
   ]
  },
  {
   "cell_type": "code",
   "execution_count": 140,
   "metadata": {},
   "outputs": [
    {
     "data": {
      "text/plain": [
       "'한 열 두 시+ 열 두 시 한 십+ 십 분, 사십 분쯤 점심시간이야. b/ u/ 열 시에 인났으니까 b/ 시+ 천천히 준비하고 한 두어 시간 두 시간 사십 분 있다가 이제 가서 점심 먹고 이제 그다음부터 수업 듣는 거야*.'"
      ]
     },
     "execution_count": 140,
     "metadata": {},
     "output_type": "execute_result"
    }
   ],
   "source": [
    "sent = '한 (12시)/(열 두 시)+ (12시)/(열 두 시) 한 (10)/(십)+ (10분)/(십 분), (40분)/(사십 분)쯤 점심시간이야. b/ u/ (10시)/(열 시)에 인났으니까 b/ 시+ 천천히 준비하고 한 두어 시간 (2시간)/(두 시간) (40분)/(사십 분) 있다가 이제 가서 점심 먹고 이제 그다음부터 수업 듣는 거야*.'\n",
    "remove_parentheses(sent)"
   ]
  },
  {
   "cell_type": "markdown",
   "metadata": {},
   "source": [
    "---\n",
    "case 2 : b/ n/ o/"
   ]
  },
  {
   "cell_type": "code",
   "execution_count": 141,
   "metadata": {},
   "outputs": [
    {
     "data": {
      "text/plain": [
       "'야 한류가 어? 예전에 소녀시대 시대 때부터 이미 인기였는데 b/ 그/ 자랑 아니야 이제 (10억)/(십 억) 받고 일한다는 건.'"
      ]
     },
     "execution_count": 141,
     "metadata": {},
     "output_type": "execute_result"
    }
   ],
   "source": [
    "sent = json_data['Q2'][-5]['original']\n",
    "sent"
   ]
  },
  {
   "cell_type": "code",
   "execution_count": 147,
   "metadata": {},
   "outputs": [
    {
     "data": {
      "text/plain": [
       "'이번+ 학+ 이번 학기에 일 점 삼 사만 넘으면 돼.'"
      ]
     },
     "execution_count": 147,
     "metadata": {},
     "output_type": "execute_result"
    }
   ],
   "source": [
    "def remove_bnoul(sent):\n",
    "    sent=sent.replace('b/ ', '')\n",
    "    sent=sent.replace('n/ ', '')\n",
    "    sent=sent.replace('o/ ', '')\n",
    "    sent=sent.replace('u/ ', '')\n",
    "    sent=sent.replace('l/ ', '')\n",
    "    sent=sent.replace('b/', '')\n",
    "    sent=sent.replace('n/', '')\n",
    "    sent=sent.replace('o/', '')\n",
    "    sent=sent.replace('u/', '')\n",
    "    sent=sent.replace('l/', '')\n",
    "    return sent\n",
    "sent=remove_bno(sent)\n",
    "sent"
   ]
  },
  {
   "cell_type": "markdown",
   "metadata": {},
   "source": [
    "---\n",
    "case 3 : +"
   ]
  },
  {
   "cell_type": "code",
   "execution_count": 20,
   "metadata": {},
   "outputs": [
    {
     "data": {
      "text/plain": [
       "'그래서 무기 계약직 그/ 걸리면 으냥 편안하게 아무 생각 없이 다니거나 아니면 진짜 이 나이에 뽑아주는 회사도 없으니까 b/ 그/ 대학원이나 석박사 통합과정 밟아가지고 b/ 공기관 나이 사+ (30대)/(삼십 대) 중반쯤 돼서 공기관 들어가도 뽑아주지 않을까요?'"
      ]
     },
     "execution_count": 20,
     "metadata": {},
     "output_type": "execute_result"
    }
   ],
   "source": [
    "sent = json_data['Q2'][-20]['original']\n",
    "sent"
   ]
  },
  {
   "cell_type": "code",
   "execution_count": 146,
   "metadata": {},
   "outputs": [
    {
     "data": {
      "text/plain": [
       "'이번+ 학+ 이번 학기에 일 점 삼 사만 넘으면 돼.'"
      ]
     },
     "execution_count": 146,
     "metadata": {},
     "output_type": "execute_result"
    }
   ],
   "source": [
    "def remove_plus(sent):\n",
    "    sent=sent.replace('+', '')\n",
    "    return sent\n",
    "sent=remove_plus(json_data['Q2'][-20]['original'])\n",
    "sent"
   ]
  },
  {
   "cell_type": "markdown",
   "metadata": {},
   "source": [
    "---\n",
    "case 4 : /"
   ]
  },
  {
   "cell_type": "code",
   "execution_count": 170,
   "metadata": {},
   "outputs": [
    {
     "data": {
      "text/plain": [
       "'그래서 무기 계약직 그 걸리면 으냥 편안하게 아무 생각 없이 다니거나 아니면 진짜 이 나이에 뽑아주는 회사도 없으니까 b 그 대학원이나 석박사 통합과정 밟아가지고 b 공기관 나이 사+ (30대)(삼십 대) 중반쯤 돼서 공기관 들어가도 뽑아주지 않을까요?'"
      ]
     },
     "execution_count": 170,
     "metadata": {},
     "output_type": "execute_result"
    }
   ],
   "source": [
    "def remove_slash(sent):\n",
    "    sent=sent.replace(r'/', '')\n",
    "    return sent\n",
    "sent=remove_slash(json_data['Q2'][-20]['original'])\n",
    "sent"
   ]
  },
  {
   "cell_type": "markdown",
   "metadata": {},
   "source": [
    "---\n",
    "case 5 *"
   ]
  },
  {
   "cell_type": "code",
   "execution_count": 169,
   "metadata": {},
   "outputs": [
    {
     "data": {
      "text/plain": [
       "'너네가 배우는 화학만큼 그런 거가 기초? (1학년)/(일 학년) 때 배웠던 너네는 뭐/ 일반화학 같은 거 배우지 않나?'"
      ]
     },
     "execution_count": 169,
     "metadata": {},
     "output_type": "execute_result"
    }
   ],
   "source": [
    "def remove_star(sent):\n",
    "    sent=sent.replace('*', '')\n",
    "    return sent\n",
    "sent=remove_star(json_data['Q2'][-376]['original'])\n",
    "sent"
   ]
  },
  {
   "cell_type": "code",
   "execution_count": null,
   "metadata": {},
   "outputs": [],
   "source": []
  }
 ],
 "metadata": {
  "kernelspec": {
   "display_name": "Python 3.9.12 ('koreanAI')",
   "language": "python",
   "name": "python3"
  },
  "language_info": {
   "codemirror_mode": {
    "name": "ipython",
    "version": 3
   },
   "file_extension": ".py",
   "mimetype": "text/x-python",
   "name": "python",
   "nbconvert_exporter": "python",
   "pygments_lexer": "ipython3",
   "version": "3.9.12"
  },
  "orig_nbformat": 4,
  "vscode": {
   "interpreter": {
    "hash": "897b6caa4123bc9664f4fedaa22cdf86fbd2051175918d753a7cb60c8a8a84ef"
   }
  }
 },
 "nbformat": 4,
 "nbformat_minor": 2
}
