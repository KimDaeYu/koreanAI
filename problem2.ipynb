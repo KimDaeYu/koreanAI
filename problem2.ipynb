{
 "cells": [
  {
   "cell_type": "code",
   "execution_count": 3,
   "metadata": {},
   "outputs": [],
   "source": [
    "import json\n",
    "\n",
    "with open('answer.json', encoding=\"UTF-8\") as f:\n",
    "    json_data = json.load(f)"
   ]
  },
  {
   "cell_type": "code",
   "execution_count": null,
   "metadata": {},
   "outputs": [],
   "source": [
    "for dic in json_data['Q2']:\n",
    "    print(dic['original'])"
   ]
  },
  {
   "cell_type": "markdown",
   "metadata": {},
   "source": [
    "---\n",
    "case 1 : )/("
   ]
  },
  {
   "cell_type": "code",
   "execution_count": 27,
   "metadata": {},
   "outputs": [
    {
     "data": {
      "text/plain": [
       "'아/ 내 일단 나는 일단 너네 부모님이 그런 세 났는+ 놓는 그런 사업을 하시는 줄은 몰랐어. 그래서 일단 b/ 그건 일단 처음 듣는 얘기고 b/ 어/ 직장인이면 월세 (30)/(삼십)이면은 많이 살만하다고 나는 생각해. b/'"
      ]
     },
     "execution_count": 27,
     "metadata": {},
     "output_type": "execute_result"
    }
   ],
   "source": [
    "sent = json_data['Q2'][-7]['original']\n",
    "sent"
   ]
  },
  {
   "cell_type": "code",
   "execution_count": 129,
   "metadata": {},
   "outputs": [],
   "source": [
    "def remove_parentheses(sent):\n",
    "    idx = sent.find(')/(')\n",
    "    if(idx == -1):\n",
    "        return sent\n",
    "    else:\n",
    "        a = sent[:idx]\n",
    "        idx2 = a.find(\"(\")\n",
    "        a = a[:idx2]\n",
    "        c = sent[idx+3:]\n",
    "        idx2 = c.find(\")\")\n",
    "        b = c[:idx2]\n",
    "        c = c[idx2+1:]\n",
    "        sent = a + b + c\n",
    "        sent = remove_parentheses(sent)\n",
    "    return sent"
   ]
  },
  {
   "cell_type": "code",
   "execution_count": 130,
   "metadata": {},
   "outputs": [
    {
     "data": {
      "text/plain": [
       "'게* 티오가 안 나가지구, 못 들어가서 밀려있어서 삼, 사 년을 군대를 못, 간 셈이잖아.'"
      ]
     },
     "execution_count": 130,
     "metadata": {},
     "output_type": "execute_result"
    }
   ],
   "source": [
    "remove_parentheses(sent)"
   ]
  },
  {
   "cell_type": "markdown",
   "metadata": {},
   "source": [
    "---\n",
    "case 2 : b/ n/ o/"
   ]
  },
  {
   "cell_type": "code",
   "execution_count": 17,
   "metadata": {},
   "outputs": [
    {
     "data": {
      "text/plain": [
       "'야 한류가 어? 예전에 소녀시대 시대 때부터 이미 인기였는데 b/ 그/ 자랑 아니야 이제 (10억)/(십 억) 받고 일한다는 건.'"
      ]
     },
     "execution_count": 17,
     "metadata": {},
     "output_type": "execute_result"
    }
   ],
   "source": [
    "sent = json_data['Q2'][-5]['original']\n",
    "sent"
   ]
  },
  {
   "cell_type": "markdown",
   "metadata": {},
   "source": [
    "---\n",
    "case 3 : +"
   ]
  },
  {
   "cell_type": "code",
   "execution_count": 20,
   "metadata": {},
   "outputs": [
    {
     "data": {
      "text/plain": [
       "'그래서 무기 계약직 그/ 걸리면 으냥 편안하게 아무 생각 없이 다니거나 아니면 진짜 이 나이에 뽑아주는 회사도 없으니까 b/ 그/ 대학원이나 석박사 통합과정 밟아가지고 b/ 공기관 나이 사+ (30대)/(삼십 대) 중반쯤 돼서 공기관 들어가도 뽑아주지 않을까요?'"
      ]
     },
     "execution_count": 20,
     "metadata": {},
     "output_type": "execute_result"
    }
   ],
   "source": [
    "sent = json_data['Q2'][-20]['original']\n",
    "sent"
   ]
  },
  {
   "cell_type": "markdown",
   "metadata": {},
   "source": [
    "---\n",
    "case 4 : /"
   ]
  },
  {
   "cell_type": "code",
   "execution_count": 6,
   "metadata": {},
   "outputs": [
    {
     "data": {
      "text/plain": [
       "'그래서 무기 계약직 그/ 걸리면 으냥 편안하게 아무 생각 없이 다니거나 아니면 진짜 이 나이에 뽑아주는 회사도 없으니까 b/ 그/ 대학원이나 석박사 통합과정 밟아가지고 b/ 공기관 나이 사+ (30대)/(삼십 대) 중반쯤 돼서 공기관 들어가도 뽑아주지 않을까요?'"
      ]
     },
     "execution_count": 6,
     "metadata": {},
     "output_type": "execute_result"
    }
   ],
   "source": [
    "sent = json_data['Q2'][-20]['original']\n",
    "sent"
   ]
  },
  {
   "cell_type": "code",
   "execution_count": null,
   "metadata": {},
   "outputs": [],
   "source": []
  }
 ],
 "metadata": {
  "kernelspec": {
   "display_name": "Python 3.9.12 ('koreanAI')",
   "language": "python",
   "name": "python3"
  },
  "language_info": {
   "codemirror_mode": {
    "name": "ipython",
    "version": 3
   },
   "file_extension": ".py",
   "mimetype": "text/x-python",
   "name": "python",
   "nbconvert_exporter": "python",
   "pygments_lexer": "ipython3",
   "version": "3.9.12"
  },
  "orig_nbformat": 4,
  "vscode": {
   "interpreter": {
    "hash": "897b6caa4123bc9664f4fedaa22cdf86fbd2051175918d753a7cb60c8a8a84ef"
   }
  }
 },
 "nbformat": 4,
 "nbformat_minor": 2
}
