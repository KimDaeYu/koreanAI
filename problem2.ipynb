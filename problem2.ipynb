{
 "cells": [
  {
   "cell_type": "code",
   "execution_count": 3,
   "metadata": {},
   "outputs": [],
   "source": [
    "import json\n",
    "\n",
    "with open('answer.json', encoding=\"UTF-8\") as f:\n",
    "    json_data = json.load(f)"
   ]
  },
  {
   "cell_type": "code",
   "execution_count": null,
   "metadata": {},
   "outputs": [],
   "source": [
    "for dic in json_data['Q2']:\n",
    "    sent = dic['original']\n",
    "    sent2 = dic['original']\n",
    "    sent = remove_parentheses(sent)\n",
    "    sent = remove_bnoul(sent)\n",
    "    sent = remove_plus(sent)\n",
    "    sent = remove_slash(sent)\n",
    "    sent = remove_star(sent)\n",
    "    sent = remove_comma(sent)\n",
    "    \n",
    "    sent2 = special_filter(bracket_filter(sent2))\n",
    "\n",
    "    if(sent != sent2):\n",
    "        print(sent)\n",
    "        print(sent2)"
   ]
  },
  {
   "cell_type": "markdown",
   "metadata": {},
   "source": [
    "---\n",
    "case 1 : )/("
   ]
  },
  {
   "cell_type": "code",
   "execution_count": 134,
   "metadata": {},
   "outputs": [],
   "source": [
    "def remove_parentheses(sent):\n",
    "    idx = sent.find(')/(')\n",
    "    if(idx == -1):\n",
    "        return sent\n",
    "    else:\n",
    "        a = sent[:idx]\n",
    "        idx2 = a.find(\"(\")\n",
    "        a = a[:idx2]\n",
    "        c = sent[idx+3:]\n",
    "        idx2 = c.find(\")\")\n",
    "        b = c[:idx2]\n",
    "        c = c[idx2+1:]\n",
    "        sent = a + b + c\n",
    "        sent = remove_parentheses(sent)\n",
    "    return sent"
   ]
  },
  {
   "cell_type": "markdown",
   "metadata": {},
   "source": [
    "---\n",
    "case 2 : b/ n/ o/"
   ]
  },
  {
   "cell_type": "code",
   "execution_count": 194,
   "metadata": {},
   "outputs": [],
   "source": [
    "def remove_bnoul(sent):\n",
    "    sent=sent.replace(' b/', '')\n",
    "    sent=sent.replace(' n/', '')\n",
    "    sent=sent.replace(' o/', '')\n",
    "    sent=sent.replace( 'u/', '')\n",
    "    sent=sent.replace(' l/', '')\n",
    "    sent=sent.replace('b/ ', '')\n",
    "    sent=sent.replace('n/ ', '')\n",
    "    sent=sent.replace('o/ ', '')\n",
    "    sent=sent.replace('u/ ', '')\n",
    "    sent=sent.replace('l/ ', '')\n",
    "    sent=sent.replace('b/', '')\n",
    "    sent=sent.replace('n/', '')\n",
    "    sent=sent.replace('o/', '')\n",
    "    sent=sent.replace('u/', '')\n",
    "    sent=sent.replace('l/', '')\n",
    "    return sent"
   ]
  },
  {
   "cell_type": "markdown",
   "metadata": {},
   "source": [
    "---\n",
    "case 3 : +"
   ]
  },
  {
   "cell_type": "code",
   "execution_count": 173,
   "metadata": {},
   "outputs": [],
   "source": [
    "def remove_plus(sent):\n",
    "    sent=sent.replace('+', '')\n",
    "    return sent"
   ]
  },
  {
   "cell_type": "markdown",
   "metadata": {},
   "source": [
    "---\n",
    "case 4 : /"
   ]
  },
  {
   "cell_type": "code",
   "execution_count": 171,
   "metadata": {},
   "outputs": [],
   "source": [
    "def remove_slash(sent):\n",
    "    sent=sent.replace(r'/', '')\n",
    "    return sent"
   ]
  },
  {
   "cell_type": "markdown",
   "metadata": {},
   "source": [
    "---\n",
    "case 5 *"
   ]
  },
  {
   "cell_type": "code",
   "execution_count": 172,
   "metadata": {},
   "outputs": [],
   "source": [
    "def remove_star(sent):\n",
    "    sent=sent.replace('*', '')\n",
    "    return sent"
   ]
  },
  {
   "cell_type": "markdown",
   "metadata": {},
   "source": [
    "---\n",
    "case 6 ,"
   ]
  },
  {
   "cell_type": "code",
   "execution_count": 190,
   "metadata": {},
   "outputs": [],
   "source": [
    "def remove_comma(sent):\n",
    "    sent=sent.replace(',', '')\n",
    "    return sent"
   ]
  },
  {
   "cell_type": "markdown",
   "metadata": {},
   "source": [
    "---\n",
    "case 7 \n",
    "def remove_(sent):\n",
    "    sent=sent.replace(',', '')\n",
    "    return sent"
   ]
  },
  {
   "cell_type": "markdown",
   "metadata": {},
   "source": [
    "---"
   ]
  },
  {
   "cell_type": "code",
   "execution_count": 196,
   "metadata": {},
   "outputs": [],
   "source": [
    "import re\n",
    "\n",
    "def bracket_filter(sentence):\n",
    "    new_sentence = str()\n",
    "    flag = False\n",
    "\n",
    "    for ch in sentence:\n",
    "        if ch == '(' and flag is False:\n",
    "            flag = True\n",
    "            continue\n",
    "        if ch == '(' and flag is True:\n",
    "            flag = False\n",
    "            continue\n",
    "        if ch != ')' and flag is False:\n",
    "            new_sentence += ch\n",
    "    return new_sentence\n",
    "\n",
    "def special_filter(sentence, mode='phonetic', replace=None):\n",
    "    SENTENCE_MARK = ['?', '!', '.']\n",
    "    NOISE = ['o', 'n', 'u', 'b', 'l']\n",
    "    EXCEPT = ['/', '+', '*', '-', '@', '$', '^', '&', '[', ']', '=', ':', ';', ',']\n",
    "\n",
    "    new_sentence = str()\n",
    "    for idx, ch in enumerate(sentence):\n",
    "        if ch not in SENTENCE_MARK:\n",
    "            if idx + 1 < len(sentence) and ch in NOISE and sentence[idx + 1] == '/':\n",
    "                continue\n",
    "\n",
    "        if ch == '#':\n",
    "            new_sentence += '샾'\n",
    "\n",
    "        elif ch == '%':\n",
    "            if mode == 'phonetic':\n",
    "                new_sentence += replace\n",
    "            elif mode == 'spelling':\n",
    "                new_sentence += '%'\n",
    "\n",
    "        elif ch not in EXCEPT:\n",
    "            new_sentence += ch\n",
    "\n",
    "    pattern = re.compile(r'\\s\\s+')\n",
    "    new_sentence = re.sub(pattern, ' ', new_sentence.strip())\n",
    "    return new_sentence"
   ]
  },
  {
   "cell_type": "code",
   "execution_count": 197,
   "metadata": {},
   "outputs": [
    {
     "data": {
      "text/plain": [
       "'어. 이 등이 조선대.'"
      ]
     },
     "execution_count": 197,
     "metadata": {},
     "output_type": "execute_result"
    }
   ],
   "source": [
    "sent = json_data['Q2'][302]['original']\n",
    "special_filter(bracket_filter(sent))"
   ]
  },
  {
   "cell_type": "code",
   "execution_count": null,
   "metadata": {},
   "outputs": [],
   "source": []
  }
 ],
 "metadata": {
  "kernelspec": {
   "display_name": "Python 3.9.12 ('koreanAI')",
   "language": "python",
   "name": "python3"
  },
  "language_info": {
   "codemirror_mode": {
    "name": "ipython",
    "version": 3
   },
   "file_extension": ".py",
   "mimetype": "text/x-python",
   "name": "python",
   "nbconvert_exporter": "python",
   "pygments_lexer": "ipython3",
   "version": "3.9.12"
  },
  "orig_nbformat": 4,
  "vscode": {
   "interpreter": {
    "hash": "897b6caa4123bc9664f4fedaa22cdf86fbd2051175918d753a7cb60c8a8a84ef"
   }
  }
 },
 "nbformat": 4,
 "nbformat_minor": 2
}
